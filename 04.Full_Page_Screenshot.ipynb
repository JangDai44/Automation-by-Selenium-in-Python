{
 "cells": [
  {
   "cell_type": "code",
   "execution_count": 1,
   "metadata": {},
   "outputs": [],
   "source": [
    "import time\n",
    "from selenium import webdriver\n",
    "from selenium.webdriver.chrome.options import Options\n",
    "from selenium.webdriver.common.by import By\n",
    "from selenium.webdriver.common.keys import Keys\n",
    "import requests"
   ]
  },
  {
   "cell_type": "code",
   "execution_count": 2,
   "metadata": {},
   "outputs": [
    {
     "name": "stdout",
     "output_type": "stream",
     "text": [
      "Done page PL0082\n",
      "Done page PL0090\n"
     ]
    }
   ],
   "source": [
    "# Full page Screeshot by id\n",
    "options = webdriver.FirefoxOptions()\n",
    "options.headless = True\n",
    "driver = webdriver.Firefox(options=options)\n",
    "driver.get(\"https://photoloco.com.au/\")\n",
    "\n",
    "# Here, the example have 2 IDs of Photoloco website\n",
    "list_=[\"0082\", \"0090\"]\n",
    "for i in list_:\n",
    "    driver.get(\"https://photoloco.com.au/pl\"+str(i))\n",
    "    driver.maximize_window()\n",
    "    time.sleep(4)\n",
    "\n",
    "    # Scroll to last page\n",
    "    height = driver.execute_script('return document.documentElement.scrollHeight')\n",
    "    width  = driver.execute_script('return document.documentElement.scrollWidth')\n",
    "    driver.set_window_size(width, height) \n",
    "    for j in range(1, height, 5):\n",
    "       driver.execute_script(\"window.scrollTo(0, {});\".format(j))\n",
    "    driver.execute_script(\"window.scrollTo(0,document.body.scrollHeight)\")\n",
    "\n",
    "    #time.sleep(5)\n",
    "    driver.find_element(By.TAG_NAME,'body')\n",
    "    time.sleep(0.5)\n",
    "    #driver.execute_script(\"document.getElementById('header').innerHTML = '';\") # Screenshot show header\n",
    "    driver.get_screenshot_as_file(\"../File/Page PL\"+str(i)+\".png\")\n",
    "    print(\"Done page PL\"+ str(i))\n",
    "driver.close()"
   ]
  }
 ],
 "metadata": {
  "kernelspec": {
   "display_name": "Python 3",
   "language": "python",
   "name": "python3"
  },
  "language_info": {
   "codemirror_mode": {
    "name": "ipython",
    "version": 3
   },
   "file_extension": ".py",
   "mimetype": "text/x-python",
   "name": "python",
   "nbconvert_exporter": "python",
   "pygments_lexer": "ipython3",
   "version": "3.12.0"
  }
 },
 "nbformat": 4,
 "nbformat_minor": 2
}
