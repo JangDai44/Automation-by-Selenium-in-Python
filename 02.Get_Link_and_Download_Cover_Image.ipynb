{
 "cells": [
  {
   "cell_type": "code",
   "execution_count": 1,
   "metadata": {},
   "outputs": [],
   "source": [
    "import time\n",
    "from selenium import webdriver\n",
    "from selenium.webdriver.chrome.options import Options\n",
    "from selenium.webdriver.common.by import By\n",
    "import requests\n",
    "import shutil"
   ]
  },
  {
   "cell_type": "code",
   "execution_count": 19,
   "metadata": {},
   "outputs": [],
   "source": [
    "# Open the website, then get the hero image link of IDs\n",
    "options = webdriver.FirefoxOptions()\n",
    "options.headless = True\n",
    "driver = webdriver.Firefox(options=options)\n",
    "\n",
    "# here, the example have 5 IDs\n",
    "list_id= [\"0082\", \"0090\", \"0109\", \"0108\", \"0101\"]\n",
    "link_img=[]\n",
    "for i in list_id:\n",
    "    driver.get('https://photoloco.com.au/product/pl'+str(i))\n",
    "    image_url= driver.find_element(By.XPATH, '//*[@id=\"single-location-detail\"]/div[1]/div/div/section[1]/div').get_attribute('data-bg')\n",
    "    image_url=image_url.split(\"'\")[1]\n",
    "\n",
    "    # Download images from image link\n",
    "    response= requests.get(image_url, stream=True)\n",
    "    with open(str(i)+\".jpg\",'wb') as out_file:\n",
    "        shutil.copyfileobj(response.raw, out_file)\n",
    "    del response\n",
    "\n",
    "driver.close()"
   ]
  }
 ],
 "metadata": {
  "kernelspec": {
   "display_name": "Python 3",
   "language": "python",
   "name": "python3"
  },
  "language_info": {
   "codemirror_mode": {
    "name": "ipython",
    "version": 3
   },
   "file_extension": ".py",
   "mimetype": "text/x-python",
   "name": "python",
   "nbconvert_exporter": "python",
   "pygments_lexer": "ipython3",
   "version": "3.12.0"
  }
 },
 "nbformat": 4,
 "nbformat_minor": 2
}
