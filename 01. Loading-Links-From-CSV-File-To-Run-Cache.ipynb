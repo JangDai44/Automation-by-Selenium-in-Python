{
 "cells": [
  {
   "cell_type": "code",
   "execution_count": 2,
   "metadata": {},
   "outputs": [],
   "source": [
    "import time\n",
    "from selenium import webdriver\n",
    "from selenium.webdriver.common.by import By\n",
    "import pandas as pd"
   ]
  },
  {
   "cell_type": "code",
   "execution_count": 5,
   "metadata": {},
   "outputs": [
    {
     "data": {
      "text/html": [
       "<div>\n",
       "<style scoped>\n",
       "    .dataframe tbody tr th:only-of-type {\n",
       "        vertical-align: middle;\n",
       "    }\n",
       "\n",
       "    .dataframe tbody tr th {\n",
       "        vertical-align: top;\n",
       "    }\n",
       "\n",
       "    .dataframe thead th {\n",
       "        text-align: right;\n",
       "    }\n",
       "</style>\n",
       "<table border=\"1\" class=\"dataframe\">\n",
       "  <thead>\n",
       "    <tr style=\"text-align: right;\">\n",
       "      <th></th>\n",
       "      <th>STT</th>\n",
       "      <th>Link</th>\n",
       "    </tr>\n",
       "  </thead>\n",
       "  <tbody>\n",
       "    <tr>\n",
       "      <th>0</th>\n",
       "      <td>1</td>\n",
       "      <td>https://lacoste.com.vn/en/lacoste/collection/c...</td>\n",
       "    </tr>\n",
       "    <tr>\n",
       "      <th>1</th>\n",
       "      <td>2</td>\n",
       "      <td>https://lacoste.com.vn/en/lacoste/collection/c...</td>\n",
       "    </tr>\n",
       "    <tr>\n",
       "      <th>2</th>\n",
       "      <td>3</td>\n",
       "      <td>https://lacoste.com.vn/en/lacoste/sneaker</td>\n",
       "    </tr>\n",
       "  </tbody>\n",
       "</table>\n",
       "</div>"
      ],
      "text/plain": [
       "   STT                                               Link\n",
       "0    1  https://lacoste.com.vn/en/lacoste/collection/c...\n",
       "1    2  https://lacoste.com.vn/en/lacoste/collection/c...\n",
       "2    3          https://lacoste.com.vn/en/lacoste/sneaker"
      ]
     },
     "execution_count": 5,
     "metadata": {},
     "output_type": "execute_result"
    }
   ],
   "source": [
    "# here, this example have 3 links\n",
    "data_link= pd.read_csv(\"File/example.csv\")\n",
    "data_link"
   ]
  },
  {
   "cell_type": "code",
   "execution_count": 35,
   "metadata": {},
   "outputs": [
    {
     "name": "stdout",
     "output_type": "stream",
     "text": [
      "Loaded link 1\n",
      "Loaded link 2\n",
      "Loaded link 3\n"
     ]
    }
   ],
   "source": [
    "# Open website and load link\n",
    "options = webdriver.FirefoxOptions()\n",
    "options.headless = True\n",
    "driver = webdriver.Firefox(options=options)\n",
    "\n",
    "count=0\n",
    "for i in data_link[\"Link\"]:\n",
    "    driver.get(i)\n",
    "    driver.maximize_window()\n",
    "    time.sleep(1)\n",
    "    if count==0:\n",
    "        driver.find_element(By.ID, \"btnAcceptCookie\").click() # Click popup cookies\n",
    "    count+=1\n",
    "\n",
    "    # Scroll full page\n",
    "    height = driver.execute_script('return document.documentElement.scrollHeight')\n",
    "    width  = driver.execute_script('return document.documentElement.scrollWidth')\n",
    "    driver.set_window_size(width, height) \n",
    "\n",
    "    for j in range(1, height, 5):\n",
    "       driver.execute_script(\"window.scrollTo(0, {});\".format(j))\n",
    "    driver.execute_script(\"window.scrollTo(0,document.body.scrollHeight)\")\n",
    "    time.sleep(1)\n",
    "    \n",
    "    print(\"Loaded link \"+ str(count))\n",
    "driver.close()"
   ]
  }
 ],
 "metadata": {
  "kernelspec": {
   "display_name": "Python 3",
   "language": "python",
   "name": "python3"
  },
  "language_info": {
   "codemirror_mode": {
    "name": "ipython",
    "version": 3
   },
   "file_extension": ".py",
   "mimetype": "text/x-python",
   "name": "python",
   "nbconvert_exporter": "python",
   "pygments_lexer": "ipython3",
   "version": "3.12.0"
  }
 },
 "nbformat": 4,
 "nbformat_minor": 2
}
