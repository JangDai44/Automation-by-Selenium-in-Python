{
 "cells": [
  {
   "cell_type": "code",
   "execution_count": 1,
   "metadata": {},
   "outputs": [],
   "source": [
    "import time\n",
    "from selenium import webdriver\n",
    "from selenium.webdriver.chrome.options import Options\n",
    "from selenium.webdriver.common.by import By\n",
    "from selenium.webdriver.common.keys import Keys\n",
    "import requests"
   ]
  },
  {
   "cell_type": "code",
   "execution_count": 3,
   "metadata": {},
   "outputs": [],
   "source": [
    "# Open Web \n",
    "options = webdriver.FirefoxOptions()\n",
    "options.headless = True\n",
    "driver = webdriver.Firefox(options=options)\n",
    "driver.get(\"Link web wordpress administrator\")\n",
    "\n",
    "# Sign in wordpress administrator\n",
    "user= driver.find_element(By.ID, \"user_login\").send_keys(\"user_admin\")\n",
    "password= driver.find_element(By.ID, \"user_pass\").send_keys(\"password_admin\")\n",
    "login= driver.find_element(By.ID, \"wp-submit\").click()"
   ]
  },
  {
   "cell_type": "code",
   "execution_count": 4,
   "metadata": {},
   "outputs": [],
   "source": [
    "# Search product link by product code in wp-admin. Here are the links of the Vietnamese version, there is no English link of the product\n",
    "list_link=[]\n",
    "list_id=['CH258410-BDM','CH261010-FYF','CH294910-ADY','CH492810-001','CH492810-031']\n",
    "for i in list_id:\n",
    "    search= driver.find_element(By.ID, \"post-search-input\").send_keys(i)\n",
    "    click_submit= driver.find_element(By.ID, \"search-submit\").click()\n",
    "    link= driver.find_element(By.XPATH, \".//div[@class='row-actions']/span[@class='edit']/a\").get_attribute(\"href\")\n",
    "    list_link.append(link)\n",
    "    search= driver.find_element(By.ID, \"post-search-input\").clear()"
   ]
  },
  {
   "cell_type": "code",
   "execution_count": null,
   "metadata": {},
   "outputs": [],
   "source": [
    "# Click to change Status for each link in turn\n",
    "count=0\n",
    "for j in range (0,len(list_link)):\n",
    "    driver.get(list_link[j])\n",
    "    time.sleep(3)\n",
    "    driver.find_element(By.CSS_SELECTOR, \"a[href='#post_status']\").click()\n",
    "    time.sleep(2)\n",
    "    \n",
    "    # If you change the Status to Draft or Publish, We will fill in Draft or Pending Review\n",
    "    # driver.find_element(By.XPATH, \".//select[@name='post_status']/option[text()='Pending Review']\").click()\n",
    "    driver.find_element(By.XPATH, \".//select[@name='post_status']/option[text()='Draft']\").click()\n",
    "    time.sleep(1)\n",
    "    driver.find_element(By.CSS_SELECTOR, \"a[class='save-post-status hide-if-no-js button']\").click()\n",
    "    time.sleep(1)\n",
    "    driver.find_element(By.ID, \"publish\").click()\n",
    "    time.sleep(6)\n",
    "    count+=1\n",
    "driver.close()"
   ]
  },
  {
   "cell_type": "code",
   "execution_count": 8,
   "metadata": {},
   "outputs": [],
   "source": [
    "# Check if the products are visible on the web. If the product is not found, then the product status has been changed to a successful draft\n",
    "options = webdriver.FirefoxOptions()\n",
    "options.headless = True\n",
    "driver = webdriver.Firefox(options=options)\n",
    "\n",
    "driver.get(\"Link web\")\n",
    "time.sleep(2)\n",
    "pass_web= driver.find_element(By.CLASS_NAME, \"enter_password\")\n",
    "pass_web.send_keys(\"password enter website\")\n",
    "pass_web.send_keys(u'\\ue007')\n",
    "\n",
    "#click_login= driver.find_element(By.XPATH, \".//button[@type='submit']\").click()\n",
    "time.sleep(3)\n",
    "click_cookie= driver.find_element(By.ID, 'btnAcceptCookie').click()\n",
    "\n",
    "for i in list_id:\n",
    "    search_bar= driver.find_element(By.ID, \"autocomplete-0-input\").send_keys(i)\n",
    "    click_search= driver.find_element(By.XPATH, \".//label[@id='autocomplete-0-label']/button[@type='submit']\").click()\n",
    "    time.sleep(2)\n",
    "\n",
    "    search_result= driver.find_element(By.XPATH, \"/html/body/main/div/div/div/div/div[1]/h5\").text\n",
    "    print(i, ' : ', search_result)\n",
    "driver.close()"
   ]
  }
 ],
 "metadata": {
  "kernelspec": {
   "display_name": "Python 3",
   "language": "python",
   "name": "python3"
  },
  "language_info": {
   "codemirror_mode": {
    "name": "ipython",
    "version": 3
   },
   "file_extension": ".py",
   "mimetype": "text/x-python",
   "name": "python",
   "nbconvert_exporter": "python",
   "pygments_lexer": "ipython3",
   "version": "3.12.0"
  }
 },
 "nbformat": 4,
 "nbformat_minor": 2
}
